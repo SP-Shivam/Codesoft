{
 "cells": [
  {
   "cell_type": "markdown",
   "id": "02d3a0eb",
   "metadata": {
    "papermill": {
     "duration": 0.017025,
     "end_time": "2023-10-27T13:52:31.253140",
     "exception": false,
     "start_time": "2023-10-27T13:52:31.236115",
     "status": "completed"
    },
    "tags": []
   },
   "source": [
    "# Iris Flower Classification"
   ]
  },
  {
   "cell_type": "markdown",
   "id": "2e8245d9",
   "metadata": {},
   "source": [
    "## Task Description\n",
    "\n",
    "* The Iris flower dataset consists of three species: setosa, versicolor, and virginica. These species can be distinguished based on their measurements. Now, imagine that you have the measurements of Iris flowers categorized by their respective species. Your objective is to train a machine learning model that can learn from these measurements and accurately classify the Iris flowers into their respective species.\n",
    "\n",
    "* Use the Iris dataset to develop a model that can classify iris flowers into different species based on their sepal and petal measurements. This dataset is widely used for introductory classification tasks."
   ]
  },
  {
   "cell_type": "code",
   "execution_count": 1,
   "id": "2e46033e",
   "metadata": {
    "execution": {
     "iopub.execute_input": "2023-10-27T13:52:31.324325Z",
     "iopub.status.busy": "2023-10-27T13:52:31.323311Z",
     "iopub.status.idle": "2023-10-27T13:52:34.792102Z",
     "shell.execute_reply": "2023-10-27T13:52:34.790713Z"
    },
    "papermill": {
     "duration": 3.492359,
     "end_time": "2023-10-27T13:52:34.795398",
     "exception": false,
     "start_time": "2023-10-27T13:52:31.303039",
     "status": "completed"
    },
    "tags": []
   },
   "outputs": [],
   "source": [
    "# Importing Libraries\n",
    "\n",
    "import numpy as np  \n",
    "import pandas as pd\n",
    "\n",
    "import matplotlib.pyplot as plt  \n",
    "import seaborn as sns  \n",
    "\n",
    "from sklearn.model_selection import train_test_split \n",
    "from sklearn.linear_model import LogisticRegression\n",
    "from sklearn.ensemble import RandomForestClassifier\n",
    "from sklearn.svm import SVC\n",
    "from sklearn.neighbors import KNeighborsClassifier\n",
    "from sklearn.tree import DecisionTreeClassifier\n",
    "from sklearn.neural_network import MLPClassifier\n",
    "from sklearn.metrics import accuracy_score, confusion_matrix, classification_report "
   ]
  },
  {
   "cell_type": "code",
   "execution_count": 3,
   "id": "1e01b89f",
   "metadata": {
    "execution": {
     "iopub.execute_input": "2023-10-27T13:52:34.867229Z",
     "iopub.status.busy": "2023-10-27T13:52:34.866560Z",
     "iopub.status.idle": "2023-10-27T13:52:34.891870Z",
     "shell.execute_reply": "2023-10-27T13:52:34.890819Z"
    },
    "papermill": {
     "duration": 0.046854,
     "end_time": "2023-10-27T13:52:34.894998",
     "exception": false,
     "start_time": "2023-10-27T13:52:34.848144",
     "status": "completed"
    },
    "tags": []
   },
   "outputs": [
    {
     "data": {
      "text/html": [
       "<div>\n",
       "<style scoped>\n",
       "    .dataframe tbody tr th:only-of-type {\n",
       "        vertical-align: middle;\n",
       "    }\n",
       "\n",
       "    .dataframe tbody tr th {\n",
       "        vertical-align: top;\n",
       "    }\n",
       "\n",
       "    .dataframe thead th {\n",
       "        text-align: right;\n",
       "    }\n",
       "</style>\n",
       "<table border=\"1\" class=\"dataframe\">\n",
       "  <thead>\n",
       "    <tr style=\"text-align: right;\">\n",
       "      <th></th>\n",
       "      <th>sepal_length</th>\n",
       "      <th>sepal_width</th>\n",
       "      <th>petal_length</th>\n",
       "      <th>petal_width</th>\n",
       "      <th>species</th>\n",
       "    </tr>\n",
       "  </thead>\n",
       "  <tbody>\n",
       "    <tr>\n",
       "      <th>0</th>\n",
       "      <td>5.1</td>\n",
       "      <td>3.5</td>\n",
       "      <td>1.4</td>\n",
       "      <td>0.2</td>\n",
       "      <td>Iris-setosa</td>\n",
       "    </tr>\n",
       "    <tr>\n",
       "      <th>1</th>\n",
       "      <td>4.9</td>\n",
       "      <td>3.0</td>\n",
       "      <td>1.4</td>\n",
       "      <td>0.2</td>\n",
       "      <td>Iris-setosa</td>\n",
       "    </tr>\n",
       "    <tr>\n",
       "      <th>2</th>\n",
       "      <td>4.7</td>\n",
       "      <td>3.2</td>\n",
       "      <td>1.3</td>\n",
       "      <td>0.2</td>\n",
       "      <td>Iris-setosa</td>\n",
       "    </tr>\n",
       "    <tr>\n",
       "      <th>3</th>\n",
       "      <td>4.6</td>\n",
       "      <td>3.1</td>\n",
       "      <td>1.5</td>\n",
       "      <td>0.2</td>\n",
       "      <td>Iris-setosa</td>\n",
       "    </tr>\n",
       "    <tr>\n",
       "      <th>4</th>\n",
       "      <td>5.0</td>\n",
       "      <td>3.6</td>\n",
       "      <td>1.4</td>\n",
       "      <td>0.2</td>\n",
       "      <td>Iris-setosa</td>\n",
       "    </tr>\n",
       "  </tbody>\n",
       "</table>\n",
       "</div>"
      ],
      "text/plain": [
       "   sepal_length  sepal_width  petal_length  petal_width      species\n",
       "0           5.1          3.5           1.4          0.2  Iris-setosa\n",
       "1           4.9          3.0           1.4          0.2  Iris-setosa\n",
       "2           4.7          3.2           1.3          0.2  Iris-setosa\n",
       "3           4.6          3.1           1.5          0.2  Iris-setosa\n",
       "4           5.0          3.6           1.4          0.2  Iris-setosa"
      ]
     },
     "execution_count": 3,
     "metadata": {},
     "output_type": "execute_result"
    }
   ],
   "source": [
    "# Load the dataset\n",
    "iris = pd.read_csv(\"IRIS.csv\")\n",
    "iris.head()"
   ]
  },
  {
   "cell_type": "code",
   "execution_count": 4,
   "id": "cfbe4ae6",
   "metadata": {
    "execution": {
     "iopub.execute_input": "2023-10-27T13:52:34.999793Z",
     "iopub.status.busy": "2023-10-27T13:52:34.998521Z",
     "iopub.status.idle": "2023-10-27T13:52:35.035607Z",
     "shell.execute_reply": "2023-10-27T13:52:35.034117Z"
    },
    "papermill": {
     "duration": 0.05848,
     "end_time": "2023-10-27T13:52:35.038349",
     "exception": false,
     "start_time": "2023-10-27T13:52:34.979869",
     "status": "completed"
    },
    "tags": []
   },
   "outputs": [
    {
     "name": "stdout",
     "output_type": "stream",
     "text": [
      "<class 'pandas.core.frame.DataFrame'>\n",
      "RangeIndex: 150 entries, 0 to 149\n",
      "Data columns (total 5 columns):\n",
      " #   Column        Non-Null Count  Dtype  \n",
      "---  ------        --------------  -----  \n",
      " 0   sepal_length  150 non-null    float64\n",
      " 1   sepal_width   150 non-null    float64\n",
      " 2   petal_length  150 non-null    float64\n",
      " 3   petal_width   150 non-null    float64\n",
      " 4   species       150 non-null    object \n",
      "dtypes: float64(4), object(1)\n",
      "memory usage: 6.0+ KB\n"
     ]
    }
   ],
   "source": [
    "iris.info()"
   ]
  },
  {
   "cell_type": "code",
   "execution_count": 5,
   "id": "19fa0061",
   "metadata": {
    "execution": {
     "iopub.execute_input": "2023-10-27T13:52:35.074637Z",
     "iopub.status.busy": "2023-10-27T13:52:35.073698Z",
     "iopub.status.idle": "2023-10-27T13:52:35.081890Z",
     "shell.execute_reply": "2023-10-27T13:52:35.080757Z"
    },
    "papermill": {
     "duration": 0.029789,
     "end_time": "2023-10-27T13:52:35.084948",
     "exception": false,
     "start_time": "2023-10-27T13:52:35.055159",
     "status": "completed"
    },
    "tags": []
   },
   "outputs": [
    {
     "data": {
      "text/plain": [
       "(150, 5)"
      ]
     },
     "execution_count": 5,
     "metadata": {},
     "output_type": "execute_result"
    }
   ],
   "source": [
    "iris.shape"
   ]
  },
  {
   "cell_type": "code",
   "execution_count": 6,
   "id": "6502baed",
   "metadata": {
    "execution": {
     "iopub.execute_input": "2023-10-27T13:52:35.122281Z",
     "iopub.status.busy": "2023-10-27T13:52:35.121330Z",
     "iopub.status.idle": "2023-10-27T13:52:35.131524Z",
     "shell.execute_reply": "2023-10-27T13:52:35.130402Z"
    },
    "papermill": {
     "duration": 0.031642,
     "end_time": "2023-10-27T13:52:35.134016",
     "exception": false,
     "start_time": "2023-10-27T13:52:35.102374",
     "status": "completed"
    },
    "tags": []
   },
   "outputs": [
    {
     "data": {
      "text/plain": [
       "sepal_length    0\n",
       "sepal_width     0\n",
       "petal_length    0\n",
       "petal_width     0\n",
       "species         0\n",
       "dtype: int64"
      ]
     },
     "execution_count": 6,
     "metadata": {},
     "output_type": "execute_result"
    }
   ],
   "source": [
    "iris.isna().sum()"
   ]
  },
  {
   "cell_type": "code",
   "execution_count": 8,
   "id": "fcea3fd0",
   "metadata": {
    "execution": {
     "iopub.execute_input": "2023-10-27T13:52:35.171335Z",
     "iopub.status.busy": "2023-10-27T13:52:35.170403Z",
     "iopub.status.idle": "2023-10-27T13:52:35.185653Z",
     "shell.execute_reply": "2023-10-27T13:52:35.184129Z"
    },
    "papermill": {
     "duration": 0.036855,
     "end_time": "2023-10-27T13:52:35.188257",
     "exception": false,
     "start_time": "2023-10-27T13:52:35.151402",
     "status": "completed"
    },
    "tags": []
   },
   "outputs": [
    {
     "data": {
      "text/plain": [
       "0      False\n",
       "1      False\n",
       "2      False\n",
       "3      False\n",
       "4      False\n",
       "       ...  \n",
       "145    False\n",
       "146    False\n",
       "147    False\n",
       "148    False\n",
       "149    False\n",
       "Length: 150, dtype: bool"
      ]
     },
     "execution_count": 8,
     "metadata": {},
     "output_type": "execute_result"
    }
   ],
   "source": [
    "# Check duplicates\n",
    "iris.duplicated()"
   ]
  },
  {
   "cell_type": "code",
   "execution_count": 10,
   "id": "324a3fb4",
   "metadata": {
    "execution": {
     "iopub.execute_input": "2023-10-27T13:52:35.400423Z",
     "iopub.status.busy": "2023-10-27T13:52:35.399526Z",
     "iopub.status.idle": "2023-10-27T13:52:35.406123Z",
     "shell.execute_reply": "2023-10-27T13:52:35.405305Z"
    },
    "papermill": {
     "duration": 0.029094,
     "end_time": "2023-10-27T13:52:35.408864",
     "exception": false,
     "start_time": "2023-10-27T13:52:35.379770",
     "status": "completed"
    },
    "tags": []
   },
   "outputs": [],
   "source": [
    "# Remove duplicates\n",
    "iris.drop_duplicates(inplace=True)"
   ]
  },
  {
   "cell_type": "code",
   "execution_count": 11,
   "id": "cec632b7",
   "metadata": {
    "execution": {
     "iopub.execute_input": "2023-10-27T13:52:35.447384Z",
     "iopub.status.busy": "2023-10-27T13:52:35.446551Z",
     "iopub.status.idle": "2023-10-27T13:52:35.454760Z",
     "shell.execute_reply": "2023-10-27T13:52:35.453932Z"
    },
    "papermill": {
     "duration": 0.030386,
     "end_time": "2023-10-27T13:52:35.457199",
     "exception": false,
     "start_time": "2023-10-27T13:52:35.426813",
     "status": "completed"
    },
    "tags": []
   },
   "outputs": [
    {
     "data": {
      "text/plain": [
       "0"
      ]
     },
     "execution_count": 11,
     "metadata": {},
     "output_type": "execute_result"
    }
   ],
   "source": [
    "iris.duplicated().sum()"
   ]
  },
  {
   "cell_type": "code",
   "execution_count": 12,
   "id": "42a4960c",
   "metadata": {
    "execution": {
     "iopub.execute_input": "2023-10-27T13:52:35.497460Z",
     "iopub.status.busy": "2023-10-27T13:52:35.496618Z",
     "iopub.status.idle": "2023-10-27T13:52:35.524067Z",
     "shell.execute_reply": "2023-10-27T13:52:35.522658Z"
    },
    "papermill": {
     "duration": 0.051173,
     "end_time": "2023-10-27T13:52:35.527234",
     "exception": false,
     "start_time": "2023-10-27T13:52:35.476061",
     "status": "completed"
    },
    "tags": []
   },
   "outputs": [
    {
     "data": {
      "text/html": [
       "<div>\n",
       "<style scoped>\n",
       "    .dataframe tbody tr th:only-of-type {\n",
       "        vertical-align: middle;\n",
       "    }\n",
       "\n",
       "    .dataframe tbody tr th {\n",
       "        vertical-align: top;\n",
       "    }\n",
       "\n",
       "    .dataframe thead th {\n",
       "        text-align: right;\n",
       "    }\n",
       "</style>\n",
       "<table border=\"1\" class=\"dataframe\">\n",
       "  <thead>\n",
       "    <tr style=\"text-align: right;\">\n",
       "      <th></th>\n",
       "      <th>sepal_length</th>\n",
       "      <th>sepal_width</th>\n",
       "      <th>petal_length</th>\n",
       "      <th>petal_width</th>\n",
       "    </tr>\n",
       "  </thead>\n",
       "  <tbody>\n",
       "    <tr>\n",
       "      <th>count</th>\n",
       "      <td>147.000000</td>\n",
       "      <td>147.000000</td>\n",
       "      <td>147.000000</td>\n",
       "      <td>147.000000</td>\n",
       "    </tr>\n",
       "    <tr>\n",
       "      <th>mean</th>\n",
       "      <td>5.856463</td>\n",
       "      <td>3.055782</td>\n",
       "      <td>3.780272</td>\n",
       "      <td>1.208844</td>\n",
       "    </tr>\n",
       "    <tr>\n",
       "      <th>std</th>\n",
       "      <td>0.829100</td>\n",
       "      <td>0.437009</td>\n",
       "      <td>1.759111</td>\n",
       "      <td>0.757874</td>\n",
       "    </tr>\n",
       "    <tr>\n",
       "      <th>min</th>\n",
       "      <td>4.300000</td>\n",
       "      <td>2.000000</td>\n",
       "      <td>1.000000</td>\n",
       "      <td>0.100000</td>\n",
       "    </tr>\n",
       "    <tr>\n",
       "      <th>25%</th>\n",
       "      <td>5.100000</td>\n",
       "      <td>2.800000</td>\n",
       "      <td>1.600000</td>\n",
       "      <td>0.300000</td>\n",
       "    </tr>\n",
       "    <tr>\n",
       "      <th>50%</th>\n",
       "      <td>5.800000</td>\n",
       "      <td>3.000000</td>\n",
       "      <td>4.400000</td>\n",
       "      <td>1.300000</td>\n",
       "    </tr>\n",
       "    <tr>\n",
       "      <th>75%</th>\n",
       "      <td>6.400000</td>\n",
       "      <td>3.300000</td>\n",
       "      <td>5.100000</td>\n",
       "      <td>1.800000</td>\n",
       "    </tr>\n",
       "    <tr>\n",
       "      <th>max</th>\n",
       "      <td>7.900000</td>\n",
       "      <td>4.400000</td>\n",
       "      <td>6.900000</td>\n",
       "      <td>2.500000</td>\n",
       "    </tr>\n",
       "  </tbody>\n",
       "</table>\n",
       "</div>"
      ],
      "text/plain": [
       "       sepal_length  sepal_width  petal_length  petal_width\n",
       "count    147.000000   147.000000    147.000000   147.000000\n",
       "mean       5.856463     3.055782      3.780272     1.208844\n",
       "std        0.829100     0.437009      1.759111     0.757874\n",
       "min        4.300000     2.000000      1.000000     0.100000\n",
       "25%        5.100000     2.800000      1.600000     0.300000\n",
       "50%        5.800000     3.000000      4.400000     1.300000\n",
       "75%        6.400000     3.300000      5.100000     1.800000\n",
       "max        7.900000     4.400000      6.900000     2.500000"
      ]
     },
     "execution_count": 12,
     "metadata": {},
     "output_type": "execute_result"
    }
   ],
   "source": [
    "iris.describe()"
   ]
  },
  {
   "cell_type": "code",
   "execution_count": 17,
   "id": "1b683405",
   "metadata": {
    "execution": {
     "iopub.execute_input": "2023-10-27T13:52:43.208232Z",
     "iopub.status.busy": "2023-10-27T13:52:43.206522Z",
     "iopub.status.idle": "2023-10-27T13:52:43.383048Z",
     "shell.execute_reply": "2023-10-27T13:52:43.381735Z"
    },
    "papermill": {
     "duration": 0.204268,
     "end_time": "2023-10-27T13:52:43.385716",
     "exception": false,
     "start_time": "2023-10-27T13:52:43.181448",
     "status": "completed"
    },
    "tags": []
   },
   "outputs": [
    {
     "data": {
      "image/png": "[encoded data removed]",
      "text/plain": [
       "<Figure size 500x400 with 1 Axes>"
      ]
     },
     "metadata": {},
     "output_type": "display_data"
    }
   ],
   "source": [
    "plt.figure(figsize=(5, 4))\n",
    "sns.countplot(x=\"species\", data=iris, palette={\"Iris-setosa\": \"red\", \"Iris-versicolor\": \"gold\", \"Iris-virginica\": \"green\"})\n",
    "plt.show()\n"
   ]
  },
  {
   "cell_type": "code",
   "execution_count": 78,
   "id": "d4e6b0fc",
   "metadata": {
    "execution": {
     "iopub.execute_input": "2023-10-27T13:52:44.658780Z",
     "iopub.status.busy": "2023-10-27T13:52:44.657090Z",
     "iopub.status.idle": "2023-10-27T13:52:45.038518Z",
     "shell.execute_reply": "2023-10-27T13:52:45.037258Z"
    },
    "papermill": {
     "duration": 0.413164,
     "end_time": "2023-10-27T13:52:45.041795",
     "exception": false,
     "start_time": "2023-10-27T13:52:44.628631",
     "status": "completed"
    },
    "tags": []
   },
   "outputs": [
    {
     "data": {
      "image/png": "[encoded data removed]",
      "text/plain": [
       "<Figure size 1600x400 with 2 Axes>"
      ]
     },
     "metadata": {},
     "output_type": "display_data"
    }
   ],
   "source": [
    "plt.figure(figsize=(16, 4))\n",
    "\n",
    "plt.subplot(141)\n",
    "sns.violinplot(x=\"species\", y=\"sepal_length\", data=iris, palette={\"Iris-setosa\": \"red\", \"Iris-versicolor\": \"gold\", \"Iris-virginica\": \"green\"})\n",
    "\n",
    "\n",
    "plt.subplot(142)\n",
    "sns.violinplot(x=\"species\", y=\"sepal_width\", data=iris, palette={\"Iris-setosa\": \"red\", \"Iris-versicolor\": \"gold\", \"Iris-virginica\": \"green\"})\n",
    "\n",
    "\n",
    "plt.tight_layout()\n",
    "plt.show()"
   ]
  },
  {
   "cell_type": "code",
   "execution_count": 81,
   "id": "3c23f830",
   "metadata": {},
   "outputs": [
    {
     "data": {
      "image/png": "[encoded data removed]",
      "text/plain": [
       "<Figure size 1600x400 with 2 Axes>"
      ]
     },
     "metadata": {},
     "output_type": "display_data"
    }
   ],
   "source": [
    "plt.figure(figsize=(16, 4))\n",
    "\n",
    "plt.subplot(143)\n",
    "sns.violinplot(x=\"species\", y=\"petal_length\", data=iris, palette={\"Iris-setosa\": \"red\", \"Iris-versicolor\": \"gold\", \"Iris-virginica\": \"green\"})\n",
    "\n",
    "\n",
    "plt.subplot(144)\n",
    "sns.violinplot(x=\"species\", y=\"petal_width\", data=iris, palette={\"Iris-setosa\": \"red\", \"Iris-versicolor\": \"gold\", \"Iris-virginica\": \"green\"})\n",
    "\n",
    "\n",
    "plt.tight_layout()\n",
    "plt.show()"
   ]
  },
  {
   "cell_type": "code",
   "execution_count": 40,
   "id": "3c9a4603",
   "metadata": {
    "execution": {
     "iopub.execute_input": "2023-10-27T13:52:48.344104Z",
     "iopub.status.busy": "2023-10-27T13:52:48.343224Z",
     "iopub.status.idle": "2023-10-27T13:52:48.349595Z",
     "shell.execute_reply": "2023-10-27T13:52:48.348291Z"
    },
    "papermill": {
     "duration": 0.043038,
     "end_time": "2023-10-27T13:52:48.352580",
     "exception": false,
     "start_time": "2023-10-27T13:52:48.309542",
     "status": "completed"
    },
    "tags": []
   },
   "outputs": [],
   "source": [
    "#data modelling\n",
    "\n",
    "x=iris.iloc[:,:4]\n",
    "y=iris.iloc[:,4]"
   ]
  },
  {
   "cell_type": "code",
   "execution_count": 41,
   "id": "8b7bf669",
   "metadata": {
    "execution": {
     "iopub.execute_input": "2023-10-27T13:52:48.419965Z",
     "iopub.status.busy": "2023-10-27T13:52:48.419469Z",
     "iopub.status.idle": "2023-10-27T13:52:48.438197Z",
     "shell.execute_reply": "2023-10-27T13:52:48.436926Z"
    },
    "papermill": {
     "duration": 0.056208,
     "end_time": "2023-10-27T13:52:48.440855",
     "exception": false,
     "start_time": "2023-10-27T13:52:48.384647",
     "status": "completed"
    },
    "tags": []
   },
   "outputs": [
    {
     "data": {
      "text/html": [
       "<div>\n",
       "<style scoped>\n",
       "    .dataframe tbody tr th:only-of-type {\n",
       "        vertical-align: middle;\n",
       "    }\n",
       "\n",
       "    .dataframe tbody tr th {\n",
       "        vertical-align: top;\n",
       "    }\n",
       "\n",
       "    .dataframe thead th {\n",
       "        text-align: right;\n",
       "    }\n",
       "</style>\n",
       "<table border=\"1\" class=\"dataframe\">\n",
       "  <thead>\n",
       "    <tr style=\"text-align: right;\">\n",
       "      <th></th>\n",
       "      <th>sepal_length</th>\n",
       "      <th>sepal_width</th>\n",
       "      <th>petal_length</th>\n",
       "      <th>petal_width</th>\n",
       "    </tr>\n",
       "  </thead>\n",
       "  <tbody>\n",
       "    <tr>\n",
       "      <th>0</th>\n",
       "      <td>5.1</td>\n",
       "      <td>3.5</td>\n",
       "      <td>1.4</td>\n",
       "      <td>0.2</td>\n",
       "    </tr>\n",
       "    <tr>\n",
       "      <th>1</th>\n",
       "      <td>4.9</td>\n",
       "      <td>3.0</td>\n",
       "      <td>1.4</td>\n",
       "      <td>0.2</td>\n",
       "    </tr>\n",
       "    <tr>\n",
       "      <th>2</th>\n",
       "      <td>4.7</td>\n",
       "      <td>3.2</td>\n",
       "      <td>1.3</td>\n",
       "      <td>0.2</td>\n",
       "    </tr>\n",
       "    <tr>\n",
       "      <th>3</th>\n",
       "      <td>4.6</td>\n",
       "      <td>3.1</td>\n",
       "      <td>1.5</td>\n",
       "      <td>0.2</td>\n",
       "    </tr>\n",
       "    <tr>\n",
       "      <th>4</th>\n",
       "      <td>5.0</td>\n",
       "      <td>3.6</td>\n",
       "      <td>1.4</td>\n",
       "      <td>0.2</td>\n",
       "    </tr>\n",
       "    <tr>\n",
       "      <th>...</th>\n",
       "      <td>...</td>\n",
       "      <td>...</td>\n",
       "      <td>...</td>\n",
       "      <td>...</td>\n",
       "    </tr>\n",
       "    <tr>\n",
       "      <th>145</th>\n",
       "      <td>6.7</td>\n",
       "      <td>3.0</td>\n",
       "      <td>5.2</td>\n",
       "      <td>2.3</td>\n",
       "    </tr>\n",
       "    <tr>\n",
       "      <th>146</th>\n",
       "      <td>6.3</td>\n",
       "      <td>2.5</td>\n",
       "      <td>5.0</td>\n",
       "      <td>1.9</td>\n",
       "    </tr>\n",
       "    <tr>\n",
       "      <th>147</th>\n",
       "      <td>6.5</td>\n",
       "      <td>3.0</td>\n",
       "      <td>5.2</td>\n",
       "      <td>2.0</td>\n",
       "    </tr>\n",
       "    <tr>\n",
       "      <th>148</th>\n",
       "      <td>6.2</td>\n",
       "      <td>3.4</td>\n",
       "      <td>5.4</td>\n",
       "      <td>2.3</td>\n",
       "    </tr>\n",
       "    <tr>\n",
       "      <th>149</th>\n",
       "      <td>5.9</td>\n",
       "      <td>3.0</td>\n",
       "      <td>5.1</td>\n",
       "      <td>1.8</td>\n",
       "    </tr>\n",
       "  </tbody>\n",
       "</table>\n",
       "<p>147 rows × 4 columns</p>\n",
       "</div>"
      ],
      "text/plain": [
       "     sepal_length  sepal_width  petal_length  petal_width\n",
       "0             5.1          3.5           1.4          0.2\n",
       "1             4.9          3.0           1.4          0.2\n",
       "2             4.7          3.2           1.3          0.2\n",
       "3             4.6          3.1           1.5          0.2\n",
       "4             5.0          3.6           1.4          0.2\n",
       "..            ...          ...           ...          ...\n",
       "145           6.7          3.0           5.2          2.3\n",
       "146           6.3          2.5           5.0          1.9\n",
       "147           6.5          3.0           5.2          2.0\n",
       "148           6.2          3.4           5.4          2.3\n",
       "149           5.9          3.0           5.1          1.8\n",
       "\n",
       "[147 rows x 4 columns]"
      ]
     },
     "execution_count": 41,
     "metadata": {},
     "output_type": "execute_result"
    }
   ],
   "source": [
    "x"
   ]
  },
  {
   "cell_type": "code",
   "execution_count": 42,
   "id": "a1fee24d",
   "metadata": {
    "execution": {
     "iopub.execute_input": "2023-10-27T13:52:48.506872Z",
     "iopub.status.busy": "2023-10-27T13:52:48.506386Z",
     "iopub.status.idle": "2023-10-27T13:52:48.515757Z",
     "shell.execute_reply": "2023-10-27T13:52:48.514851Z"
    },
    "papermill": {
     "duration": 0.045386,
     "end_time": "2023-10-27T13:52:48.518296",
     "exception": false,
     "start_time": "2023-10-27T13:52:48.472910",
     "status": "completed"
    },
    "tags": []
   },
   "outputs": [
    {
     "data": {
      "text/plain": [
       "0         Iris-setosa\n",
       "1         Iris-setosa\n",
       "2         Iris-setosa\n",
       "3         Iris-setosa\n",
       "4         Iris-setosa\n",
       "            ...      \n",
       "145    Iris-virginica\n",
       "146    Iris-virginica\n",
       "147    Iris-virginica\n",
       "148    Iris-virginica\n",
       "149    Iris-virginica\n",
       "Name: species, Length: 147, dtype: object"
      ]
     },
     "execution_count": 42,
     "metadata": {},
     "output_type": "execute_result"
    }
   ],
   "source": [
    "y"
   ]
  },
  {
   "cell_type": "code",
   "execution_count": 43,
   "id": "83682de7",
   "metadata": {
    "execution": {
     "iopub.execute_input": "2023-10-27T13:52:48.584024Z",
     "iopub.status.busy": "2023-10-27T13:52:48.583330Z",
     "iopub.status.idle": "2023-10-27T13:52:48.589730Z",
     "shell.execute_reply": "2023-10-27T13:52:48.588915Z"
    },
    "papermill": {
     "duration": 0.041887,
     "end_time": "2023-10-27T13:52:48.592305",
     "exception": false,
     "start_time": "2023-10-27T13:52:48.550418",
     "status": "completed"
    },
    "tags": []
   },
   "outputs": [],
   "source": [
    "x_train,x_test,y_train,y_test=train_test_split(x,y,random_state=0)"
   ]
  },
  {
   "cell_type": "code",
   "execution_count": 44,
   "id": "c631a92b",
   "metadata": {
    "execution": {
     "iopub.execute_input": "2023-10-27T13:52:48.658679Z",
     "iopub.status.busy": "2023-10-27T13:52:48.657884Z",
     "iopub.status.idle": "2023-10-27T13:52:48.665793Z",
     "shell.execute_reply": "2023-10-27T13:52:48.664303Z"
    },
    "papermill": {
     "duration": 0.045,
     "end_time": "2023-10-27T13:52:48.668513",
     "exception": false,
     "start_time": "2023-10-27T13:52:48.623513",
     "status": "completed"
    },
    "tags": []
   },
   "outputs": [
    {
     "data": {
      "text/plain": [
       "(110, 4)"
      ]
     },
     "execution_count": 44,
     "metadata": {},
     "output_type": "execute_result"
    }
   ],
   "source": [
    "x_train.shape"
   ]
  },
  {
   "cell_type": "code",
   "execution_count": 45,
   "id": "786c0aae",
   "metadata": {
    "execution": {
     "iopub.execute_input": "2023-10-27T13:52:48.735451Z",
     "iopub.status.busy": "2023-10-27T13:52:48.734735Z",
     "iopub.status.idle": "2023-10-27T13:52:48.740960Z",
     "shell.execute_reply": "2023-10-27T13:52:48.740028Z"
    },
    "papermill": {
     "duration": 0.042321,
     "end_time": "2023-10-27T13:52:48.743613",
     "exception": false,
     "start_time": "2023-10-27T13:52:48.701292",
     "status": "completed"
    },
    "tags": []
   },
   "outputs": [
    {
     "data": {
      "text/plain": [
       "(37, 4)"
      ]
     },
     "execution_count": 45,
     "metadata": {},
     "output_type": "execute_result"
    }
   ],
   "source": [
    "x_test.shape"
   ]
  },
  {
   "cell_type": "code",
   "execution_count": 46,
   "id": "21fdb237",
   "metadata": {
    "execution": {
     "iopub.execute_input": "2023-10-27T13:52:48.809277Z",
     "iopub.status.busy": "2023-10-27T13:52:48.808805Z",
     "iopub.status.idle": "2023-10-27T13:52:48.816549Z",
     "shell.execute_reply": "2023-10-27T13:52:48.815212Z"
    },
    "papermill": {
     "duration": 0.044331,
     "end_time": "2023-10-27T13:52:48.819488",
     "exception": false,
     "start_time": "2023-10-27T13:52:48.775157",
     "status": "completed"
    },
    "tags": []
   },
   "outputs": [
    {
     "data": {
      "text/plain": [
       "(110,)"
      ]
     },
     "execution_count": 46,
     "metadata": {},
     "output_type": "execute_result"
    }
   ],
   "source": [
    "y_train.shape"
   ]
  },
  {
   "cell_type": "code",
   "execution_count": 47,
   "id": "3d37d4d9",
   "metadata": {
    "execution": {
     "iopub.execute_input": "2023-10-27T13:52:48.887096Z",
     "iopub.status.busy": "2023-10-27T13:52:48.885617Z",
     "iopub.status.idle": "2023-10-27T13:52:48.893501Z",
     "shell.execute_reply": "2023-10-27T13:52:48.891926Z"
    },
    "papermill": {
     "duration": 0.043824,
     "end_time": "2023-10-27T13:52:48.896233",
     "exception": false,
     "start_time": "2023-10-27T13:52:48.852409",
     "status": "completed"
    },
    "tags": []
   },
   "outputs": [
    {
     "data": {
      "text/plain": [
       "(37,)"
      ]
     },
     "execution_count": 47,
     "metadata": {},
     "output_type": "execute_result"
    }
   ],
   "source": [
    "y_test.shape"
   ]
  },
  {
   "cell_type": "code",
   "execution_count": 49,
   "id": "3a95f3ce",
   "metadata": {
    "execution": {
     "iopub.execute_input": "2023-10-27T13:52:49.030166Z",
     "iopub.status.busy": "2023-10-27T13:52:49.029725Z",
     "iopub.status.idle": "2023-10-27T13:52:49.080459Z",
     "shell.execute_reply": "2023-10-27T13:52:49.078989Z"
    },
    "papermill": {
     "duration": 0.090432,
     "end_time": "2023-10-27T13:52:49.083927",
     "exception": false,
     "start_time": "2023-10-27T13:52:48.993495",
     "status": "completed"
    },
    "tags": []
   },
   "outputs": [
    {
     "data": {
      "text/html": [
       "<style>#sk-container-id-2 {color: black;}#sk-container-id-2 pre{padding: 0;}#sk-container-id-2 div.sk-toggleable {background-color: white;}#sk-container-id-2 label.sk-toggleable__label {cursor: pointer;display: block;width: 100%;margin-bottom: 0;padding: 0.3em;box-sizing: border-box;text-align: center;}#sk-container-id-2 label.sk-toggleable__label-arrow:before {content: \"▸\";float: left;margin-right: 0.25em;color: #696969;}#sk-container-id-2 label.sk-toggleable__label-arrow:hover:before {color: black;}#sk-container-id-2 div.sk-estimator:hover label.sk-toggleable__label-arrow:before {color: black;}#sk-container-id-2 div.sk-toggleable__content {max-height: 0;max-width: 0;overflow: hidden;text-align: left;background-color: #f0f8ff;}#sk-container-id-2 div.sk-toggleable__content pre {margin: 0.2em;color: black;border-radius: 0.25em;background-color: #f0f8ff;}#sk-container-id-2 input.sk-toggleable__control:checked~div.sk-toggleable__content {max-height: 200px;max-width: 100%;overflow: auto;}#sk-container-id-2 input.sk-toggleable__control:checked~label.sk-toggleable__label-arrow:before {content: \"▾\";}#sk-container-id-2 div.sk-estimator input.sk-toggleable__control:checked~label.sk-toggleable__label {background-color: #d4ebff;}#sk-container-id-2 div.sk-label input.sk-toggleable__control:checked~label.sk-toggleable__label {background-color: #d4ebff;}#sk-container-id-2 input.sk-hidden--visually {border: 0;clip: rect(1px 1px 1px 1px);clip: rect(1px, 1px, 1px, 1px);height: 1px;margin: -1px;overflow: hidden;padding: 0;position: absolute;width: 1px;}#sk-container-id-2 div.sk-estimator {font-family: monospace;background-color: #f0f8ff;border: 1px dotted black;border-radius: 0.25em;box-sizing: border-box;margin-bottom: 0.5em;}#sk-container-id-2 div.sk-estimator:hover {background-color: #d4ebff;}#sk-container-id-2 div.sk-parallel-item::after {content: \"\";width: 100%;border-bottom: 1px solid gray;flex-grow: 1;}#sk-container-id-2 div.sk-label:hover label.sk-toggleable__label {background-color: #d4ebff;}#sk-container-id-2 div.sk-serial::before {content: \"\";position: absolute;border-left: 1px solid gray;box-sizing: border-box;top: 0;bottom: 0;left: 50%;z-index: 0;}#sk-container-id-2 div.sk-serial {display: flex;flex-direction: column;align-items: center;background-color: white;padding-right: 0.2em;padding-left: 0.2em;position: relative;}#sk-container-id-2 div.sk-item {position: relative;z-index: 1;}#sk-container-id-2 div.sk-parallel {display: flex;align-items: stretch;justify-content: center;background-color: white;position: relative;}#sk-container-id-2 div.sk-item::before, #sk-container-id-2 div.sk-parallel-item::before {content: \"\";position: absolute;border-left: 1px solid gray;box-sizing: border-box;top: 0;bottom: 0;left: 50%;z-index: -1;}#sk-container-id-2 div.sk-parallel-item {display: flex;flex-direction: column;z-index: 1;position: relative;background-color: white;}#sk-container-id-2 div.sk-parallel-item:first-child::after {align-self: flex-end;width: 50%;}#sk-container-id-2 div.sk-parallel-item:last-child::after {align-self: flex-start;width: 50%;}#sk-container-id-2 div.sk-parallel-item:only-child::after {width: 0;}#sk-container-id-2 div.sk-dashed-wrapped {border: 1px dashed gray;margin: 0 0.4em 0.5em 0.4em;box-sizing: border-box;padding-bottom: 0.4em;background-color: white;}#sk-container-id-2 div.sk-label label {font-family: monospace;font-weight: bold;display: inline-block;line-height: 1.2em;}#sk-container-id-2 div.sk-label-container {text-align: center;}#sk-container-id-2 div.sk-container {/* jupyter's `normalize.less` sets `[hidden] { display: none; }` but bootstrap.min.css set `[hidden] { display: none !important; }` so we also need the `!important` here to be able to override the default hidden behavior on the sphinx rendered scikit-learn.org. See: https://github.com/scikit-learn/scikit-learn/issues/21755 */display: inline-block !important;position: relative;}#sk-container-id-2 div.sk-text-repr-fallback {display: none;}</style><div id=\"sk-container-id-2\" class=\"sk-top-container\"><div class=\"sk-text-repr-fallback\"><pre>LogisticRegression()</pre><b>In a Jupyter environment, please rerun this cell to show the HTML representation or trust the notebook. <br />On GitHub, the HTML representation is unable to render, please try loading this page with nbviewer.org.</b></div><div class=\"sk-container\" hidden><div class=\"sk-item\"><div class=\"sk-estimator sk-toggleable\"><input class=\"sk-toggleable__control sk-hidden--visually\" id=\"sk-estimator-id-2\" type=\"checkbox\" checked><label for=\"sk-estimator-id-2\" class=\"sk-toggleable__label sk-toggleable__label-arrow\">LogisticRegression</label><div class=\"sk-toggleable__content\"><pre>LogisticRegression()</pre></div></div></div></div></div>"
      ],
      "text/plain": [
       "LogisticRegression()"
      ]
     },
     "execution_count": 49,
     "metadata": {},
     "output_type": "execute_result"
    }
   ],
   "source": [
    "# Create the LogisticRegression model\n",
    "LG=LogisticRegression()\n",
    "\n",
    "LG.fit(x_train,y_train)"
   ]
  },
  {
   "cell_type": "code",
   "execution_count": 50,
   "id": "4d8a3c60",
   "metadata": {
    "execution": {
     "iopub.execute_input": "2023-10-27T13:52:49.457136Z",
     "iopub.status.busy": "2023-10-27T13:52:49.456722Z",
     "iopub.status.idle": "2023-10-27T13:52:49.471548Z",
     "shell.execute_reply": "2023-10-27T13:52:49.469748Z"
    },
    "papermill": {
     "duration": 0.051869,
     "end_time": "2023-10-27T13:52:49.474457",
     "exception": false,
     "start_time": "2023-10-27T13:52:49.422588",
     "status": "completed"
    },
    "tags": []
   },
   "outputs": [
    {
     "data": {
      "text/html": [
       "<style>#sk-container-id-3 {color: black;}#sk-container-id-3 pre{padding: 0;}#sk-container-id-3 div.sk-toggleable {background-color: white;}#sk-container-id-3 label.sk-toggleable__label {cursor: pointer;display: block;width: 100%;margin-bottom: 0;padding: 0.3em;box-sizing: border-box;text-align: center;}#sk-container-id-3 label.sk-toggleable__label-arrow:before {content: \"▸\";float: left;margin-right: 0.25em;color: #696969;}#sk-container-id-3 label.sk-toggleable__label-arrow:hover:before {color: black;}#sk-container-id-3 div.sk-estimator:hover label.sk-toggleable__label-arrow:before {color: black;}#sk-container-id-3 div.sk-toggleable__content {max-height: 0;max-width: 0;overflow: hidden;text-align: left;background-color: #f0f8ff;}#sk-container-id-3 div.sk-toggleable__content pre {margin: 0.2em;color: black;border-radius: 0.25em;background-color: #f0f8ff;}#sk-container-id-3 input.sk-toggleable__control:checked~div.sk-toggleable__content {max-height: 200px;max-width: 100%;overflow: auto;}#sk-container-id-3 input.sk-toggleable__control:checked~label.sk-toggleable__label-arrow:before {content: \"▾\";}#sk-container-id-3 div.sk-estimator input.sk-toggleable__control:checked~label.sk-toggleable__label {background-color: #d4ebff;}#sk-container-id-3 div.sk-label input.sk-toggleable__control:checked~label.sk-toggleable__label {background-color: #d4ebff;}#sk-container-id-3 input.sk-hidden--visually {border: 0;clip: rect(1px 1px 1px 1px);clip: rect(1px, 1px, 1px, 1px);height: 1px;margin: -1px;overflow: hidden;padding: 0;position: absolute;width: 1px;}#sk-container-id-3 div.sk-estimator {font-family: monospace;background-color: #f0f8ff;border: 1px dotted black;border-radius: 0.25em;box-sizing: border-box;margin-bottom: 0.5em;}#sk-container-id-3 div.sk-estimator:hover {background-color: #d4ebff;}#sk-container-id-3 div.sk-parallel-item::after {content: \"\";width: 100%;border-bottom: 1px solid gray;flex-grow: 1;}#sk-container-id-3 div.sk-label:hover label.sk-toggleable__label {background-color: #d4ebff;}#sk-container-id-3 div.sk-serial::before {content: \"\";position: absolute;border-left: 1px solid gray;box-sizing: border-box;top: 0;bottom: 0;left: 50%;z-index: 0;}#sk-container-id-3 div.sk-serial {display: flex;flex-direction: column;align-items: center;background-color: white;padding-right: 0.2em;padding-left: 0.2em;position: relative;}#sk-container-id-3 div.sk-item {position: relative;z-index: 1;}#sk-container-id-3 div.sk-parallel {display: flex;align-items: stretch;justify-content: center;background-color: white;position: relative;}#sk-container-id-3 div.sk-item::before, #sk-container-id-3 div.sk-parallel-item::before {content: \"\";position: absolute;border-left: 1px solid gray;box-sizing: border-box;top: 0;bottom: 0;left: 50%;z-index: -1;}#sk-container-id-3 div.sk-parallel-item {display: flex;flex-direction: column;z-index: 1;position: relative;background-color: white;}#sk-container-id-3 div.sk-parallel-item:first-child::after {align-self: flex-end;width: 50%;}#sk-container-id-3 div.sk-parallel-item:last-child::after {align-self: flex-start;width: 50%;}#sk-container-id-3 div.sk-parallel-item:only-child::after {width: 0;}#sk-container-id-3 div.sk-dashed-wrapped {border: 1px dashed gray;margin: 0 0.4em 0.5em 0.4em;box-sizing: border-box;padding-bottom: 0.4em;background-color: white;}#sk-container-id-3 div.sk-label label {font-family: monospace;font-weight: bold;display: inline-block;line-height: 1.2em;}#sk-container-id-3 div.sk-label-container {text-align: center;}#sk-container-id-3 div.sk-container {/* jupyter's `normalize.less` sets `[hidden] { display: none; }` but bootstrap.min.css set `[hidden] { display: none !important; }` so we also need the `!important` here to be able to override the default hidden behavior on the sphinx rendered scikit-learn.org. See: https://github.com/scikit-learn/scikit-learn/issues/21755 */display: inline-block !important;position: relative;}#sk-container-id-3 div.sk-text-repr-fallback {display: none;}</style><div id=\"sk-container-id-3\" class=\"sk-top-container\"><div class=\"sk-text-repr-fallback\"><pre>SVC(kernel=&#x27;linear&#x27;)</pre><b>In a Jupyter environment, please rerun this cell to show the HTML representation or trust the notebook. <br />On GitHub, the HTML representation is unable to render, please try loading this page with nbviewer.org.</b></div><div class=\"sk-container\" hidden><div class=\"sk-item\"><div class=\"sk-estimator sk-toggleable\"><input class=\"sk-toggleable__control sk-hidden--visually\" id=\"sk-estimator-id-3\" type=\"checkbox\" checked><label for=\"sk-estimator-id-3\" class=\"sk-toggleable__label sk-toggleable__label-arrow\">SVC</label><div class=\"sk-toggleable__content\"><pre>SVC(kernel=&#x27;linear&#x27;)</pre></div></div></div></div></div>"
      ],
      "text/plain": [
       "SVC(kernel='linear')"
      ]
     },
     "execution_count": 50,
     "metadata": {},
     "output_type": "execute_result"
    }
   ],
   "source": [
    "# Create the Sport Vector Classifier\n",
    "svm = SVC(kernel='linear')\n",
    "svm.fit(x_train, y_train)"
   ]
  },
  {
   "cell_type": "code",
   "execution_count": 51,
   "id": "c2f3fcb7",
   "metadata": {
    "execution": {
     "iopub.execute_input": "2023-10-27T13:52:49.628644Z",
     "iopub.status.busy": "2023-10-27T13:52:49.628138Z",
     "iopub.status.idle": "2023-10-27T13:52:49.642315Z",
     "shell.execute_reply": "2023-10-27T13:52:49.640876Z"
    },
    "papermill": {
     "duration": 0.051257,
     "end_time": "2023-10-27T13:52:49.644839",
     "exception": false,
     "start_time": "2023-10-27T13:52:49.593582",
     "status": "completed"
    },
    "tags": []
   },
   "outputs": [
    {
     "data": {
      "text/html": [
       "<style>#sk-container-id-4 {color: black;}#sk-container-id-4 pre{padding: 0;}#sk-container-id-4 div.sk-toggleable {background-color: white;}#sk-container-id-4 label.sk-toggleable__label {cursor: pointer;display: block;width: 100%;margin-bottom: 0;padding: 0.3em;box-sizing: border-box;text-align: center;}#sk-container-id-4 label.sk-toggleable__label-arrow:before {content: \"▸\";float: left;margin-right: 0.25em;color: #696969;}#sk-container-id-4 label.sk-toggleable__label-arrow:hover:before {color: black;}#sk-container-id-4 div.sk-estimator:hover label.sk-toggleable__label-arrow:before {color: black;}#sk-container-id-4 div.sk-toggleable__content {max-height: 0;max-width: 0;overflow: hidden;text-align: left;background-color: #f0f8ff;}#sk-container-id-4 div.sk-toggleable__content pre {margin: 0.2em;color: black;border-radius: 0.25em;background-color: #f0f8ff;}#sk-container-id-4 input.sk-toggleable__control:checked~div.sk-toggleable__content {max-height: 200px;max-width: 100%;overflow: auto;}#sk-container-id-4 input.sk-toggleable__control:checked~label.sk-toggleable__label-arrow:before {content: \"▾\";}#sk-container-id-4 div.sk-estimator input.sk-toggleable__control:checked~label.sk-toggleable__label {background-color: #d4ebff;}#sk-container-id-4 div.sk-label input.sk-toggleable__control:checked~label.sk-toggleable__label {background-color: #d4ebff;}#sk-container-id-4 input.sk-hidden--visually {border: 0;clip: rect(1px 1px 1px 1px);clip: rect(1px, 1px, 1px, 1px);height: 1px;margin: -1px;overflow: hidden;padding: 0;position: absolute;width: 1px;}#sk-container-id-4 div.sk-estimator {font-family: monospace;background-color: #f0f8ff;border: 1px dotted black;border-radius: 0.25em;box-sizing: border-box;margin-bottom: 0.5em;}#sk-container-id-4 div.sk-estimator:hover {background-color: #d4ebff;}#sk-container-id-4 div.sk-parallel-item::after {content: \"\";width: 100%;border-bottom: 1px solid gray;flex-grow: 1;}#sk-container-id-4 div.sk-label:hover label.sk-toggleable__label {background-color: #d4ebff;}#sk-container-id-4 div.sk-serial::before {content: \"\";position: absolute;border-left: 1px solid gray;box-sizing: border-box;top: 0;bottom: 0;left: 50%;z-index: 0;}#sk-container-id-4 div.sk-serial {display: flex;flex-direction: column;align-items: center;background-color: white;padding-right: 0.2em;padding-left: 0.2em;position: relative;}#sk-container-id-4 div.sk-item {position: relative;z-index: 1;}#sk-container-id-4 div.sk-parallel {display: flex;align-items: stretch;justify-content: center;background-color: white;position: relative;}#sk-container-id-4 div.sk-item::before, #sk-container-id-4 div.sk-parallel-item::before {content: \"\";position: absolute;border-left: 1px solid gray;box-sizing: border-box;top: 0;bottom: 0;left: 50%;z-index: -1;}#sk-container-id-4 div.sk-parallel-item {display: flex;flex-direction: column;z-index: 1;position: relative;background-color: white;}#sk-container-id-4 div.sk-parallel-item:first-child::after {align-self: flex-end;width: 50%;}#sk-container-id-4 div.sk-parallel-item:last-child::after {align-self: flex-start;width: 50%;}#sk-container-id-4 div.sk-parallel-item:only-child::after {width: 0;}#sk-container-id-4 div.sk-dashed-wrapped {border: 1px dashed gray;margin: 0 0.4em 0.5em 0.4em;box-sizing: border-box;padding-bottom: 0.4em;background-color: white;}#sk-container-id-4 div.sk-label label {font-family: monospace;font-weight: bold;display: inline-block;line-height: 1.2em;}#sk-container-id-4 div.sk-label-container {text-align: center;}#sk-container-id-4 div.sk-container {/* jupyter's `normalize.less` sets `[hidden] { display: none; }` but bootstrap.min.css set `[hidden] { display: none !important; }` so we also need the `!important` here to be able to override the default hidden behavior on the sphinx rendered scikit-learn.org. See: https://github.com/scikit-learn/scikit-learn/issues/21755 */display: inline-block !important;position: relative;}#sk-container-id-4 div.sk-text-repr-fallback {display: none;}</style><div id=\"sk-container-id-4\" class=\"sk-top-container\"><div class=\"sk-text-repr-fallback\"><pre>DecisionTreeClassifier(random_state=0)</pre><b>In a Jupyter environment, please rerun this cell to show the HTML representation or trust the notebook. <br />On GitHub, the HTML representation is unable to render, please try loading this page with nbviewer.org.</b></div><div class=\"sk-container\" hidden><div class=\"sk-item\"><div class=\"sk-estimator sk-toggleable\"><input class=\"sk-toggleable__control sk-hidden--visually\" id=\"sk-estimator-id-4\" type=\"checkbox\" checked><label for=\"sk-estimator-id-4\" class=\"sk-toggleable__label sk-toggleable__label-arrow\">DecisionTreeClassifier</label><div class=\"sk-toggleable__content\"><pre>DecisionTreeClassifier(random_state=0)</pre></div></div></div></div></div>"
      ],
      "text/plain": [
       "DecisionTreeClassifier(random_state=0)"
      ]
     },
     "execution_count": 51,
     "metadata": {},
     "output_type": "execute_result"
    }
   ],
   "source": [
    "# Create the Decision Tree Classifier model\n",
    "dt = DecisionTreeClassifier(random_state=0)\n",
    "dt.fit(x_train, y_train)"
   ]
  },
  {
   "cell_type": "code",
   "execution_count": 58,
   "id": "21df820d",
   "metadata": {
    "execution": {
     "iopub.execute_input": "2023-10-27T13:52:50.255953Z",
     "iopub.status.busy": "2023-10-27T13:52:50.255426Z",
     "iopub.status.idle": "2023-10-27T13:52:50.263732Z",
     "shell.execute_reply": "2023-10-27T13:52:50.262347Z"
    },
    "papermill": {
     "duration": 0.046932,
     "end_time": "2023-10-27T13:52:50.266450",
     "exception": false,
     "start_time": "2023-10-27T13:52:50.219518",
     "status": "completed"
    },
    "tags": []
   },
   "outputs": [],
   "source": [
    "y_pred = LG.predict(x_test)\n",
    "y_pred_svm = svm.predict(x_test)\n",
    "y_pred_dt = dt.predict(x_test)"
   ]
  },
  {
   "cell_type": "code",
   "execution_count": 59,
   "id": "2893dad8",
   "metadata": {
    "execution": {
     "iopub.execute_input": "2023-10-27T13:52:50.751600Z",
     "iopub.status.busy": "2023-10-27T13:52:50.750911Z",
     "iopub.status.idle": "2023-10-27T13:52:50.764892Z",
     "shell.execute_reply": "2023-10-27T13:52:50.763526Z"
    },
    "papermill": {
     "duration": 0.052154,
     "end_time": "2023-10-27T13:52:50.767651",
     "exception": false,
     "start_time": "2023-10-27T13:52:50.715497",
     "status": "completed"
    },
    "tags": []
   },
   "outputs": [
    {
     "name": "stdout",
     "output_type": "stream",
     "text": [
      "              Actual     Predicted_LR    Predicted_SVM     Predicted_DT\n",
      "7        Iris-setosa      Iris-setosa      Iris-setosa      Iris-setosa\n",
      "24       Iris-setosa      Iris-setosa      Iris-setosa      Iris-setosa\n",
      "27       Iris-setosa      Iris-setosa      Iris-setosa      Iris-setosa\n",
      "122   Iris-virginica   Iris-virginica   Iris-virginica   Iris-virginica\n",
      "146   Iris-virginica   Iris-virginica   Iris-virginica   Iris-virginica\n",
      "53   Iris-versicolor  Iris-versicolor  Iris-versicolor  Iris-versicolor\n",
      "45       Iris-setosa      Iris-setosa      Iris-setosa      Iris-setosa\n",
      "22       Iris-setosa      Iris-setosa      Iris-setosa      Iris-setosa\n",
      "114   Iris-virginica   Iris-virginica   Iris-virginica   Iris-virginica\n",
      "26       Iris-setosa      Iris-setosa      Iris-setosa      Iris-setosa\n",
      "42       Iris-setosa      Iris-setosa      Iris-setosa      Iris-setosa\n",
      "80   Iris-versicolor  Iris-versicolor  Iris-versicolor  Iris-versicolor\n",
      "133   Iris-virginica   Iris-virginica   Iris-virginica   Iris-virginica\n",
      "64   Iris-versicolor  Iris-versicolor  Iris-versicolor  Iris-versicolor\n",
      "73   Iris-versicolor  Iris-versicolor  Iris-versicolor  Iris-versicolor\n",
      "93   Iris-versicolor  Iris-versicolor  Iris-versicolor  Iris-versicolor\n",
      "16       Iris-setosa      Iris-setosa      Iris-setosa      Iris-setosa\n",
      "56   Iris-versicolor  Iris-versicolor  Iris-versicolor  Iris-versicolor\n",
      "100   Iris-virginica   Iris-virginica   Iris-virginica   Iris-virginica\n",
      "8        Iris-setosa      Iris-setosa      Iris-setosa      Iris-setosa\n",
      "91   Iris-versicolor  Iris-versicolor  Iris-versicolor  Iris-versicolor\n",
      "39       Iris-setosa      Iris-setosa      Iris-setosa      Iris-setosa\n",
      "148   Iris-virginica   Iris-virginica   Iris-virginica   Iris-virginica\n",
      "86   Iris-versicolor  Iris-versicolor  Iris-versicolor  Iris-versicolor\n",
      "120   Iris-virginica   Iris-virginica   Iris-virginica   Iris-virginica\n",
      "33       Iris-setosa      Iris-setosa      Iris-setosa      Iris-setosa\n",
      "147   Iris-virginica   Iris-virginica   Iris-virginica   Iris-virginica\n",
      "92   Iris-versicolor  Iris-versicolor  Iris-versicolor  Iris-versicolor\n",
      "85   Iris-versicolor  Iris-versicolor  Iris-versicolor  Iris-versicolor\n",
      "107   Iris-virginica   Iris-virginica   Iris-virginica   Iris-virginica\n",
      "78   Iris-versicolor  Iris-versicolor  Iris-versicolor  Iris-versicolor\n",
      "18       Iris-setosa      Iris-setosa      Iris-setosa      Iris-setosa\n",
      "47       Iris-setosa      Iris-setosa      Iris-setosa      Iris-setosa\n",
      "52   Iris-versicolor  Iris-versicolor  Iris-versicolor  Iris-versicolor\n",
      "46       Iris-setosa      Iris-setosa      Iris-setosa      Iris-setosa\n",
      "2        Iris-setosa      Iris-setosa      Iris-setosa      Iris-setosa\n",
      "65   Iris-versicolor  Iris-versicolor  Iris-versicolor  Iris-versicolor\n"
     ]
    }
   ],
   "source": [
    "results_df = pd.DataFrame({'Actual': y_test, 'Predicted_LR': y_pred, 'Predicted_SVM': y_pred_svm,'Predicted_DT': y_pred_dt})\n",
    "\n",
    "print(results_df)"
   ]
  },
  {
   "cell_type": "code",
   "execution_count": 67,
   "id": "d508d633",
   "metadata": {
    "execution": {
     "iopub.execute_input": "2023-10-27T13:52:50.903554Z",
     "iopub.status.busy": "2023-10-27T13:52:50.903103Z",
     "iopub.status.idle": "2023-10-27T13:52:50.986022Z",
     "shell.execute_reply": "2023-10-27T13:52:50.984062Z"
    },
    "papermill": {
     "duration": 0.122067,
     "end_time": "2023-10-27T13:52:50.989932",
     "exception": false,
     "start_time": "2023-10-27T13:52:50.867865",
     "status": "completed"
    },
    "tags": []
   },
   "outputs": [
    {
     "name": "stdout",
     "output_type": "stream",
     "text": [
      "Model: **Logistic Regression**\n",
      "Confusion Matrix:\n",
      "[[15  0  0]\n",
      " [ 0 13  0]\n",
      " [ 0  0  9]]\n",
      "Classification Report:\n",
      "                 precision    recall  f1-score   support\n",
      "\n",
      "    Iris-setosa       1.00      1.00      1.00        15\n",
      "Iris-versicolor       1.00      1.00      1.00        13\n",
      " Iris-virginica       1.00      1.00      1.00         9\n",
      "\n",
      "       accuracy                           1.00        37\n",
      "      macro avg       1.00      1.00      1.00        37\n",
      "   weighted avg       1.00      1.00      1.00        37\n",
      "\n",
      "Accuracy: 100.00%\n",
      "----------------------------------------\n"
     ]
    }
   ],
   "source": [
    "# Model performance\n",
    "def evaluate_model(model_name, y_true, y_pred):\n",
    "    print(f\"Model: {model_name}\")\n",
    "    \n",
    "    # Confusion Matrix\n",
    "    confusion = confusion_matrix(y_true, y_pred)\n",
    "    print(\"Confusion Matrix:\")\n",
    "    print(confusion)\n",
    "    \n",
    "    # Classification Report\n",
    "    report = classification_report(y_true, y_pred, target_names=iris['species'].unique())\n",
    "    print(\"Classification Report:\")\n",
    "    print(report)\n",
    "    \n",
    "    # Accuracy Score\n",
    "    accuracy = accuracy_score(y_true, y_pred) * 100\n",
    "    print(f\"Accuracy: {accuracy:.2f}%\")\n",
    "    print(\"-\" * 40)\n",
    "    \n",
    "evaluate_model(\"**Logistic Regression**\", y_test, y_pred)"
   ]
  },
  {
   "cell_type": "code",
   "execution_count": 68,
   "id": "1c1274e0",
   "metadata": {},
   "outputs": [
    {
     "name": "stdout",
     "output_type": "stream",
     "text": [
      "Model: **Support Vector Machine**\n",
      "Confusion Matrix:\n",
      "[[15  0  0]\n",
      " [ 0 13  0]\n",
      " [ 0  0  9]]\n",
      "Classification Report:\n",
      "                 precision    recall  f1-score   support\n",
      "\n",
      "    Iris-setosa       1.00      1.00      1.00        15\n",
      "Iris-versicolor       1.00      1.00      1.00        13\n",
      " Iris-virginica       1.00      1.00      1.00         9\n",
      "\n",
      "       accuracy                           1.00        37\n",
      "      macro avg       1.00      1.00      1.00        37\n",
      "   weighted avg       1.00      1.00      1.00        37\n",
      "\n",
      "Accuracy: 100.00%\n",
      "----------------------------------------\n"
     ]
    }
   ],
   "source": [
    "evaluate_model(\"**Support Vector Machine**\", y_test, y_pred_svm)"
   ]
  },
  {
   "cell_type": "code",
   "execution_count": 69,
   "id": "95a07e86",
   "metadata": {},
   "outputs": [
    {
     "name": "stdout",
     "output_type": "stream",
     "text": [
      "Model: **Decision Tree**\n",
      "Confusion Matrix:\n",
      "[[15  0  0]\n",
      " [ 0 13  0]\n",
      " [ 0  0  9]]\n",
      "Classification Report:\n",
      "                 precision    recall  f1-score   support\n",
      "\n",
      "    Iris-setosa       1.00      1.00      1.00        15\n",
      "Iris-versicolor       1.00      1.00      1.00        13\n",
      " Iris-virginica       1.00      1.00      1.00         9\n",
      "\n",
      "       accuracy                           1.00        37\n",
      "      macro avg       1.00      1.00      1.00        37\n",
      "   weighted avg       1.00      1.00      1.00        37\n",
      "\n",
      "Accuracy: 100.00%\n",
      "----------------------------------------\n"
     ]
    }
   ],
   "source": [
    "evaluate_model(\"**Decision Tree**\", y_test, y_pred_dt)"
   ]
  },
  {
   "cell_type": "code",
   "execution_count": 82,
   "id": "131495b9",
   "metadata": {
    "execution": {
     "iopub.execute_input": "2023-10-27T13:52:51.063513Z",
     "iopub.status.busy": "2023-10-27T13:52:51.063086Z",
     "iopub.status.idle": "2023-10-27T13:52:51.385965Z",
     "shell.execute_reply": "2023-10-27T13:52:51.384803Z"
    },
    "papermill": {
     "duration": 0.362154,
     "end_time": "2023-10-27T13:52:51.388691",
     "exception": false,
     "start_time": "2023-10-27T13:52:51.026537",
     "status": "completed"
    },
    "tags": []
   },
   "outputs": [
    {
     "data": {
      "image/png": "[encoded data removed]",
      "text/plain": [
       "<Figure size 640x480 with 1 Axes>"
      ]
     },
     "metadata": {},
     "output_type": "display_data"
    }
   ],
   "source": [
    "import matplotlib.pyplot as plt\n",
    "accuracy_scores = [accuracy_score(y_test, y_pred), accuracy_score(y_test, y_pred_svm), accuracy_score(y_test, y_pred_dt)]\n",
    "\n",
    "model_names = [\"Logistic Regression\", \"SVM\", \"Decision Tree\"]\n",
    "\n",
    "colors = ['purple', 'red', 'green']\n",
    "\n",
    "plt.figure()\n",
    "bars = plt.bar(model_names, accuracy_scores)\n",
    "for bar, color in zip(bars, colors):\n",
    "    bar.set_color(color)\n",
    "\n",
    "plt.title(\"Model Accuracy Comparison\")\n",
    "plt.xlabel(\"Models\")\n",
    "plt.ylabel(\"Accuracy (%)\")\n",
    "plt.show()\n"
   ]
  }
 ],
 "metadata": {
  "kernelspec": {
   "display_name": "Python 3 (ipykernel)",
   "language": "python",
   "name": "python3"
  },
  "language_info": {
   "codemirror_mode": {
    "name": "ipython",
    "version": 3
   },
   "file_extension": ".py",
   "mimetype": "text/x-python",
   "name": "python",
   "nbconvert_exporter": "python",
   "pygments_lexer": "ipython3",
   "version": "3.9.13"
  },
  "papermill": {
   "default_parameters": {},
   "duration": 26.317164,
   "end_time": "2023-10-27T13:52:52.452744",
   "environment_variables": {},
   "exception": null,
   "input_path": "__notebook__.ipynb",
   "output_path": "__notebook__.ipynb",
   "parameters": {},
   "start_time": "2023-10-27T13:52:26.135580",
   "version": "2.4.0"
  }
 },
 "nbformat": 4,
 "nbformat_minor": 5
}
